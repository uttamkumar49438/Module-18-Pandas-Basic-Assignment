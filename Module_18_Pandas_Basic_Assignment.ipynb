{
  "nbformat": 4,
  "nbformat_minor": 0,
  "metadata": {
    "colab": {
      "provenance": []
    },
    "kernelspec": {
      "name": "python3",
      "display_name": "Python 3"
    },
    "language_info": {
      "name": "python"
    }
  },
  "cells": [
    {
      "cell_type": "markdown",
      "source": [
        "Q1. Create a Pandas Series that contains the following data: 4, 8, 15, 16, 23, and 42. Then, print the series."
      ],
      "metadata": {
        "id": "dxGpbq5PwUzO"
      }
    },
    {
      "cell_type": "code",
      "source": [
        "import pandas as pd\n",
        "\n",
        "# Create a Pandas Series\n",
        "data = [4, 8, 15, 16, 23, 42]\n",
        "series = pd.Series(data)\n",
        "\n",
        "# Print the series\n",
        "print(series)\n"
      ],
      "metadata": {
        "id": "nq-O9GZLwZdW"
      },
      "execution_count": null,
      "outputs": []
    },
    {
      "cell_type": "markdown",
      "source": [
        "Q2. Create a variable of list type containing 10 elements in it, and apply pandas.Series function on the\n",
        "variable print it."
      ],
      "metadata": {
        "id": "eeIdy2mJwaZy"
      }
    },
    {
      "cell_type": "code",
      "source": [
        "import pandas as pd\n",
        "\n",
        "# Create a list with 10 elements\n",
        "data_list = [1, 2, 3, 4, 5, 6, 7, 8, 9, 10]\n",
        "\n",
        "# Convert the list to a Pandas Series\n",
        "series = pd.Series(data_list)\n",
        "\n",
        "# Print the series\n",
        "print(series)"
      ],
      "metadata": {
        "id": "EmqCUvf3wehy"
      },
      "execution_count": null,
      "outputs": []
    },
    {
      "cell_type": "markdown",
      "source": [
        "Q4. What is ‘DataFrame’ in pandas and how is it different from pandas.series? Explain with an example."
      ],
      "metadata": {
        "id": "v4Fr3qINwowd"
      }
    },
    {
      "cell_type": "markdown",
      "source": [
        "In Pandas, a DataFrame is a two-dimensional labeled data structure that consists of rows and columns, similar to a spreadsheet or SQL table"
      ],
      "metadata": {
        "id": "R0dbskMSwtnN"
      }
    },
    {
      "cell_type": "code",
      "source": [
        "import pandas as pd\n",
        "\n",
        "# Creating a Pandas Series\n",
        "series_data = pd.Series([1, 2, 3, 4, 5], name='A')\n",
        "\n",
        "# Creating a Pandas DataFrame\n",
        "data = {\n",
        "    'A': [1, 2, 3, 4, 5],\n",
        "    'B': ['a', 'b', 'c', 'd', 'e'],\n",
        "    'C': [True, False, True, False, True]\n",
        "}\n",
        "df = pd.DataFrame(data)\n",
        "\n",
        "# Printing the Series and DataFrame\n",
        "print(\"Pandas Series:\")\n",
        "print(series_data)\n",
        "print(\"\\n\")\n",
        "\n",
        "print(\"Pandas DataFrame:\")\n",
        "print(df)"
      ],
      "metadata": {
        "id": "JBvMkLm1wqUy"
      },
      "execution_count": null,
      "outputs": []
    },
    {
      "cell_type": "markdown",
      "source": [
        "Q5. What are some common functions you can use to manipulate data in a Pandas DataFrame? Can\n",
        "you give an example of when you might use one of these functions?"
      ],
      "metadata": {
        "id": "7ldAymvzwz_I"
      }
    },
    {
      "cell_type": "markdown",
      "source": [
        "- head() and tail()\n",
        "- info()\n",
        "- describe()\n",
        "- drop()\n",
        "- fillna()\n",
        "- groupby()"
      ],
      "metadata": {
        "id": "0EVyTmduw7fP"
      }
    },
    {
      "cell_type": "markdown",
      "source": [
        "Q6. Which of the following is mutable in nature Series, DataFrame, Panel?"
      ],
      "metadata": {
        "id": "iBRW30LDxKx0"
      }
    },
    {
      "cell_type": "markdown",
      "source": [
        "\n",
        "Among Series, DataFrame, and Panel in Pandas, only DataFrame is mutable in nature."
      ],
      "metadata": {
        "id": "aUm06zxExQAb"
      }
    },
    {
      "cell_type": "markdown",
      "source": [
        "Q7. Create a DataFrame using multiple Series. Explain with an example."
      ],
      "metadata": {
        "id": "LRGdBsK9xTVO"
      }
    },
    {
      "cell_type": "code",
      "source": [
        "import pandas as pd\n",
        "\n",
        "# Create multiple Pandas Series\n",
        "name_series = pd.Series(['Alice', 'Bob', 'Charlie', 'David'])\n",
        "age_series = pd.Series([25, 30, 35, 40])\n",
        "city_series = pd.Series(['New York', 'Los Angeles', 'Chicago', 'Houston'])\n",
        "\n",
        "# Create a DataFrame using the Series\n",
        "data = {\n",
        "    'Name': name_series,\n",
        "    'Age': age_series,\n",
        "    'City': city_series\n",
        "}\n",
        "df = pd.DataFrame(data)\n",
        "\n",
        "# Print the DataFrame\n",
        "print(df)"
      ],
      "metadata": {
        "id": "WzwqaYc2xcd_"
      },
      "execution_count": null,
      "outputs": []
    }
  ]
}